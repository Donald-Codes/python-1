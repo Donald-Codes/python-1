{
 "cells": [
  {
   "cell_type": "markdown",
   "id": "75ee71c5",
   "metadata": {},
   "source": [
    "## Python Control structures"
   ]
  },
  {
   "cell_type": "markdown",
   "id": "7347e9ae",
   "metadata": {},
   "source": [
    "# Conditional Statement"
   ]
  },
  {
   "cell_type": "markdown",
   "id": "65aef39d",
   "metadata": {},
   "source": [
    "### 1. if statement"
   ]
  },
  {
   "cell_type": "code",
   "execution_count": 2,
   "id": "c1c33050",
   "metadata": {},
   "outputs": [
    {
     "name": "stdout",
     "output_type": "stream",
     "text": [
      "x is less than 20 \n"
     ]
    }
   ],
   "source": [
    "x = 10\n",
    "\n",
    "if x < 20:\n",
    "    print(\"x is less than 20 \")"
   ]
  },
  {
   "cell_type": "markdown",
   "id": "4fcd83ae",
   "metadata": {},
   "source": [
    "## 2. if...else statement"
   ]
  },
  {
   "cell_type": "code",
   "execution_count": 3,
   "id": "d2d6dc33",
   "metadata": {},
   "outputs": [
    {
     "name": "stdout",
     "output_type": "stream",
     "text": [
      "x is 5 or less\n"
     ]
    }
   ],
   "source": [
    "x =3\n",
    "\n",
    "if x > 5:\n",
    "    print(\"x is greater than 5\")\n",
    "else:\n",
    "    print(\"x is 5 or less\")    \n"
   ]
  },
  {
   "cell_type": "markdown",
   "id": "afe37de0",
   "metadata": {},
   "source": [
    "## 3. if...elif...else"
   ]
  },
  {
   "cell_type": "code",
   "execution_count": 4,
   "id": "d5ef7ca4",
   "metadata": {},
   "outputs": [
    {
     "name": "stdout",
     "output_type": "stream",
     "text": [
      "x is equal to 50\n"
     ]
    }
   ],
   "source": [
    "x = 50\n",
    "\n",
    "if x < 40:\n",
    "    print(\"less than 50\")\n",
    "elif x > 50:\n",
    "    print(\"x is greater than 50\")\n",
    "else:\n",
    "    print(\"x is equal to 50\")    "
   ]
  },
  {
   "cell_type": "code",
   "execution_count": 5,
   "id": "ab8136aa",
   "metadata": {},
   "outputs": [
    {
     "name": "stdout",
     "output_type": "stream",
     "text": [
      "This is a high balance wallet\n"
     ]
    }
   ],
   "source": [
    "wallet_balance = \"$1500\"\n",
    "\n",
    "if wallet_balance < \"$1000\":\n",
    "    print(\"This is a low balance wallet\")\n",
    "elif wallet_balance == \"$1000\":\n",
    "    print(\"This is a mid balance wallet\")\n",
    "else:\n",
    "    print(\"This is a high balance wallet\")        "
   ]
  },
  {
   "cell_type": "markdown",
   "id": "2e063621",
   "metadata": {},
   "source": [
    "## Logical operators"
   ]
  },
  {
   "cell_type": "markdown",
   "id": "494b6ce0",
   "metadata": {},
   "source": [
    "### 1. AND operator\n",
    "\n",
    "Returns true only if both conditions are true"
   ]
  },
  {
   "cell_type": "code",
   "execution_count": 6,
   "id": "60caf156",
   "metadata": {},
   "outputs": [
    {
     "name": "stdout",
     "output_type": "stream",
     "text": [
      "High balance and verified wallet\n"
     ]
    }
   ],
   "source": [
    "balance = 1500\n",
    "verified = True\n",
    "\n",
    "if balance > 1000 and verified:\n",
    "    print(\"High balance and verified wallet\")"
   ]
  },
  {
   "cell_type": "markdown",
   "id": "66b2e442",
   "metadata": {},
   "source": [
    "### 2. OR operator\n",
    "\n",
    "Returns true if at least one cndition is true"
   ]
  },
  {
   "cell_type": "code",
   "execution_count": 7,
   "id": "54abe0dd",
   "metadata": {},
   "outputs": [
    {
     "name": "stdout",
     "output_type": "stream",
     "text": [
      "Failed both checks\n"
     ]
    }
   ],
   "source": [
    "balance = 600\n",
    "verified = False\n",
    "\n",
    "if balance > 1000 or verified:\n",
    "    print(\"Passes at least one check\")\n",
    "else:\n",
    "    print(\"Failed both checks\")    "
   ]
  },
  {
   "cell_type": "markdown",
   "id": "8ca996ea",
   "metadata": {},
   "source": [
    "## 3. NOT operator\n",
    "\n",
    "Reverses the condition"
   ]
  },
  {
   "cell_type": "code",
   "execution_count": 8,
   "id": "5fdaf9f9",
   "metadata": {},
   "outputs": [
    {
     "name": "stdout",
     "output_type": "stream",
     "text": [
      "wallet is clean\n"
     ]
    }
   ],
   "source": [
    "is_blacklisted = False\n",
    "\n",
    "if not is_blacklisted:\n",
    "    print(\"wallet is clean\")"
   ]
  },
  {
   "cell_type": "code",
   "execution_count": 9,
   "id": "0885238d",
   "metadata": {},
   "outputs": [
    {
     "name": "stdout",
     "output_type": "stream",
     "text": [
      "it is greater than 0\n",
      "it is less than 200\n"
     ]
    }
   ],
   "source": [
    "variable  = 100\n",
    "\n",
    "if variable > 0:\n",
    "    print(\"it is greater than 0\")\n",
    "if variable < 200:\n",
    "    print(\"it is less than 200\")    \n",
    "\n",
    "    "
   ]
  },
  {
   "cell_type": "code",
   "execution_count": 10,
   "id": "8cdd8c58",
   "metadata": {},
   "outputs": [
    {
     "name": "stdout",
     "output_type": "stream",
     "text": [
      "Access granted\n",
      "Not Blacklisted\n"
     ]
    }
   ],
   "source": [
    "# exercise\n",
    "\n",
    "user = 20\n",
    "verified = True\n",
    "parental_permission = \"Yes\"\n",
    "is_blacklisted = False\n",
    "\n",
    "if user > 18 or parental_permission == \"yes\":\n",
    "    print(\"Access granted\")\n",
    "if not is_blacklisted:\n",
    "    print(\"Not Blacklisted\")"
   ]
  },
  {
   "cell_type": "markdown",
   "id": "d0266e91",
   "metadata": {},
   "source": [
    "## LOOPS (for loop and while loop)"
   ]
  },
  {
   "cell_type": "code",
   "execution_count": 11,
   "id": "14e7a70d",
   "metadata": {},
   "outputs": [
    {
     "name": "stdout",
     "output_type": "stream",
     "text": [
      "btc\n",
      "Apt\n",
      "Sol\n"
     ]
    }
   ],
   "source": [
    "# for loop -> loops over a list, string or range\n",
    "\n",
    "tokens = ['btc', 'Apt', 'Sol']\n",
    "\n",
    "for token in tokens:\n",
    "    print(token)"
   ]
  },
  {
   "cell_type": "code",
   "execution_count": 12,
   "id": "aeb5e116",
   "metadata": {},
   "outputs": [
    {
     "name": "stdout",
     "output_type": "stream",
     "text": [
      "220\n"
     ]
    }
   ],
   "source": [
    "#iteration\n",
    "L1 = [22,33,44,55,66]\n",
    "\n",
    "total = 0\n",
    "\n",
    "for i in L1:\n",
    "    total = total+i\n",
    "\n",
    "print(total)"
   ]
  },
  {
   "cell_type": "code",
   "execution_count": 13,
   "id": "cb7c0592",
   "metadata": {},
   "outputs": [
    {
     "name": "stdout",
     "output_type": "stream",
     "text": [
      "Average is  44.0\n"
     ]
    }
   ],
   "source": [
    " # Average\n",
    "num = len(L1)\n",
    "\n",
    "average = total/num\n",
    "print(\"Average is \", average)"
   ]
  },
  {
   "cell_type": "code",
   "execution_count": 14,
   "id": "ce8d82b4",
   "metadata": {},
   "outputs": [
    {
     "name": "stdout",
     "output_type": "stream",
     "text": [
      "2\n",
      "5\n",
      "8\n"
     ]
    }
   ],
   "source": [
    "# range() -> type 2 loop\n",
    "for i in range(2,10,3):\n",
    "    print(i)"
   ]
  },
  {
   "cell_type": "code",
   "execution_count": 15,
   "id": "fea34372",
   "metadata": {},
   "outputs": [
    {
     "name": "stdout",
     "output_type": "stream",
     "text": [
      "[0, 2, 4, 6, 8, 10, 12, 14, 16, 18, 20, 22, 24, 26, 28, 30, 32, 34, 36, 38, 40, 42, 44, 46, 48, 50, 52, 54, 56, 58, 60, 62, 64, 66, 68, 70, 72, 74, 76, 78, 80, 82, 84, 86, 88, 90, 92, 94, 96, 98]\n"
     ]
    }
   ],
   "source": [
    "l2 = []\n",
    "for i in range(100):\n",
    "    if i%2 == 0:\n",
    "        l2.append(i)\n",
    "print(l2)        "
   ]
  },
  {
   "cell_type": "code",
   "execution_count": 16,
   "id": "ce3e032b",
   "metadata": {},
   "outputs": [
    {
     "name": "stdout",
     "output_type": "stream",
     "text": [
      "22\n",
      "33\n",
      "44\n",
      "55\n",
      "66\n",
      "88\n"
     ]
    }
   ],
   "source": [
    "# type 3 loop\n",
    "L1 = [22,33,44,55,66,88]\n",
    "\n",
    "for i in range(len(L1)):\n",
    "    print(L1[i])\n"
   ]
  },
  {
   "cell_type": "code",
   "execution_count": 17,
   "id": "5ea9f709",
   "metadata": {},
   "outputs": [
    {
     "name": "stdout",
     "output_type": "stream",
     "text": [
      "btc 120000\n",
      "eth 2000\n",
      "sol 200\n"
     ]
    }
   ],
   "source": [
    "# type 4 loop\n",
    "\n",
    "crypto_prices = {'btc':120000, 'eth':2000, 'sol':200}\n",
    "\n",
    "for i in crypto_prices:\n",
    "    print(i, crypto_prices.get(i))"
   ]
  },
  {
   "cell_type": "markdown",
   "id": "874f991c",
   "metadata": {},
   "source": [
    "## WHILE LOOP\n"
   ]
  },
  {
   "cell_type": "code",
   "execution_count": 18,
   "id": "d89febea",
   "metadata": {},
   "outputs": [
    {
     "name": "stdout",
     "output_type": "stream",
     "text": [
      "10\n",
      "11\n",
      "12\n",
      "13\n",
      "14\n",
      "15\n",
      "16\n",
      "17\n",
      "18\n",
      "19\n"
     ]
    }
   ],
   "source": [
    "i = 10\n",
    "\n",
    "while True:\n",
    "    if i == 20:\n",
    "        break\n",
    "    print(i)\n",
    "    i+=1"
   ]
  },
  {
   "cell_type": "code",
   "execution_count": 22,
   "id": "a6c56bf8",
   "metadata": {},
   "outputs": [
    {
     "name": "stdout",
     "output_type": "stream",
     "text": [
      "2\n",
      "4\n",
      "6\n",
      "8\n",
      "10\n",
      "12\n",
      "14\n",
      "16\n",
      "18\n",
      "20\n",
      "22\n",
      "24\n",
      "26\n",
      "28\n",
      "30\n",
      "32\n",
      "34\n",
      "36\n",
      "38\n",
      "40\n",
      "42\n",
      "44\n",
      "46\n",
      "48\n",
      "50\n",
      "52\n",
      "54\n",
      "56\n",
      "58\n",
      "60\n",
      "62\n",
      "64\n",
      "66\n",
      "68\n",
      "70\n",
      "72\n",
      "74\n",
      "76\n",
      "78\n",
      "80\n",
      "82\n",
      "84\n",
      "86\n",
      "88\n",
      "90\n",
      "92\n",
      "94\n",
      "96\n",
      "98\n",
      "100\n"
     ]
    }
   ],
   "source": [
    "# get even no between 1-100\n",
    "even = []\n",
    "i = 1\n",
    "while True:\n",
    "    if i>100:\n",
    "        break\n",
    "    if i%2==0:\n",
    "        even.append(i)\n",
    "        print(i)\n",
    "    i+=1           "
   ]
  },
  {
   "cell_type": "code",
   "execution_count": 20,
   "id": "c74ab8aa",
   "metadata": {},
   "outputs": [
    {
     "name": "stdout",
     "output_type": "stream",
     "text": [
      "3 x 1 = 3\n",
      "3 x 2 = 6\n",
      "3 x 3 = 9\n",
      "3 x 4 = 12\n",
      "3 x 5 = 15\n",
      "3 x 6 = 18\n",
      "3 x 7 = 21\n",
      "3 x 8 = 24\n",
      "3 x 9 = 27\n",
      "3 x 10 = 30\n"
     ]
    }
   ],
   "source": [
    "# multiplication table 3x3\n",
    "num1 = 3\n",
    "num2 = 1\n",
    "\n",
    "while True:\n",
    "    if num2==11:\n",
    "        break\n",
    "    print(num1, 'x', num2, '=', num1*num2)\n",
    "    num2+=1"
   ]
  },
  {
   "cell_type": "code",
   "execution_count": 23,
   "id": "ebc3943e",
   "metadata": {},
   "outputs": [
    {
     "name": "stdout",
     "output_type": "stream",
     "text": [
      "0\n",
      "1\n",
      "3\n",
      "4\n"
     ]
    }
   ],
   "source": [
    "# continue - Skip to the next iteration\n",
    "\n",
    "for i in range(5):\n",
    "    if i == 2:\n",
    "        continue\n",
    "    print(i)"
   ]
  }
 ],
 "metadata": {
  "kernelspec": {
   "display_name": "pythonz",
   "language": "python",
   "name": "python3"
  },
  "language_info": {
   "codemirror_mode": {
    "name": "ipython",
    "version": 3
   },
   "file_extension": ".py",
   "mimetype": "text/x-python",
   "name": "python",
   "nbconvert_exporter": "python",
   "pygments_lexer": "ipython3",
   "version": "3.12.3"
  }
 },
 "nbformat": 4,
 "nbformat_minor": 5
}
