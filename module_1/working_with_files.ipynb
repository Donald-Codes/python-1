{
 "cells": [
  {
   "cell_type": "markdown",
   "id": "ed8e1cc2",
   "metadata": {},
   "source": [
    "# Working with Files (CSV, JSON)\n",
    "\n",
    "Reading and writing text files.\n",
    "\n",
    "what it is: Storing and retrieving data from files on your computer.\n",
    "\n",
    "### Basic Operations:\n",
    "\n",
    "open(\"file.txt\") -> Opens a file (needs to be closed after).\n",
    "with open(...) -> Better way (auto-closes file).\n",
    "\n",
    "## Modes:\n",
    "\n",
    "\"r\" - Read(default)\n",
    "\n",
    "\"w\" - Write (erases existing content)\n",
    "\n",
    "\"a\" - Append (adds to end)\n",
    "\n",
    "\"r+\" - Read and write"
   ]
  },
  {
   "cell_type": "code",
   "execution_count": 1,
   "id": "8d25f074",
   "metadata": {},
   "outputs": [
    {
     "ename": "FileNotFoundError",
     "evalue": "[Errno 2] No such file or directory: 'sample.txt'",
     "output_type": "error",
     "traceback": [
      "\u001b[31m---------------------------------------------------------------------------\u001b[39m",
      "\u001b[31mFileNotFoundError\u001b[39m                         Traceback (most recent call last)",
      "\u001b[36mCell\u001b[39m\u001b[36m \u001b[39m\u001b[32mIn[1]\u001b[39m\u001b[32m, line 3\u001b[39m\n\u001b[32m      1\u001b[39m \u001b[38;5;66;03m# Working with files in python (Reading mode)\u001b[39;00m\n\u001b[32m----> \u001b[39m\u001b[32m3\u001b[39m \u001b[38;5;28;01mwith\u001b[39;00m \u001b[38;5;28;43mopen\u001b[39;49m\u001b[43m(\u001b[49m\u001b[33;43m'\u001b[39;49m\u001b[33;43msample.txt\u001b[39;49m\u001b[33;43m'\u001b[39;49m\u001b[43m,\u001b[49m\u001b[43m \u001b[49m\u001b[33;43m'\u001b[39;49m\u001b[33;43mr\u001b[39;49m\u001b[33;43m'\u001b[39;49m\u001b[43m)\u001b[49m \u001b[38;5;28;01mas\u001b[39;00m file: \u001b[38;5;66;03m# opens the file in the read mode\u001b[39;00m\n\u001b[32m      4\u001b[39m     content = file.read() \u001b[38;5;66;03m# Read the entire content in the file\u001b[39;00m\n\u001b[32m      5\u001b[39m     \u001b[38;5;28mprint\u001b[39m(content)\n",
      "\u001b[36mFile \u001b[39m\u001b[32mc:\\python-tutorial\\pythonz\\Lib\\site-packages\\IPython\\core\\interactiveshell.py:343\u001b[39m, in \u001b[36m_modified_open\u001b[39m\u001b[34m(file, *args, **kwargs)\u001b[39m\n\u001b[32m    336\u001b[39m \u001b[38;5;28;01mif\u001b[39;00m file \u001b[38;5;129;01min\u001b[39;00m {\u001b[32m0\u001b[39m, \u001b[32m1\u001b[39m, \u001b[32m2\u001b[39m}:\n\u001b[32m    337\u001b[39m     \u001b[38;5;28;01mraise\u001b[39;00m \u001b[38;5;167;01mValueError\u001b[39;00m(\n\u001b[32m    338\u001b[39m         \u001b[33mf\u001b[39m\u001b[33m\"\u001b[39m\u001b[33mIPython won\u001b[39m\u001b[33m'\u001b[39m\u001b[33mt let you open fd=\u001b[39m\u001b[38;5;132;01m{\u001b[39;00mfile\u001b[38;5;132;01m}\u001b[39;00m\u001b[33m by default \u001b[39m\u001b[33m\"\u001b[39m\n\u001b[32m    339\u001b[39m         \u001b[33m\"\u001b[39m\u001b[33mas it is likely to crash IPython. If you know what you are doing, \u001b[39m\u001b[33m\"\u001b[39m\n\u001b[32m    340\u001b[39m         \u001b[33m\"\u001b[39m\u001b[33myou can use builtins\u001b[39m\u001b[33m'\u001b[39m\u001b[33m open.\u001b[39m\u001b[33m\"\u001b[39m\n\u001b[32m    341\u001b[39m     )\n\u001b[32m--> \u001b[39m\u001b[32m343\u001b[39m \u001b[38;5;28;01mreturn\u001b[39;00m \u001b[43mio_open\u001b[49m\u001b[43m(\u001b[49m\u001b[43mfile\u001b[49m\u001b[43m,\u001b[49m\u001b[43m \u001b[49m\u001b[43m*\u001b[49m\u001b[43margs\u001b[49m\u001b[43m,\u001b[49m\u001b[43m \u001b[49m\u001b[43m*\u001b[49m\u001b[43m*\u001b[49m\u001b[43mkwargs\u001b[49m\u001b[43m)\u001b[49m\n",
      "\u001b[31mFileNotFoundError\u001b[39m: [Errno 2] No such file or directory: 'sample.txt'"
     ]
    }
   ],
   "source": [
    "# Working with files in python (Reading mode)\n",
    "\n",
    "with open('sample.txt', 'r') as file: # opens the file in the read mode\n",
    "    content = file.read() # Read the entire content in the file\n",
    "    print(content)\n"
   ]
  },
  {
   "cell_type": "code",
   "execution_count": 2,
   "id": "603babfc",
   "metadata": {},
   "outputs": [],
   "source": [
    "# working with files in python (writing mode)\n",
    "\n",
    "with open('sample-1.txt', 'w') as file: # opens file in the write mode\n",
    "    file.write(\"Hello World!\\n\") # write a line in the file\n",
    "    file.write(\"This is a text file.\\n\")\n",
    "    "
   ]
  },
  {
   "cell_type": "code",
   "execution_count": 3,
   "id": "6e20a42e",
   "metadata": {},
   "outputs": [],
   "source": [
    "# Working with files in python (Append mode)\n",
    "\n",
    "with open('sample-1.txt', 'a') as file: # opens file in append mode\n",
    "    file.write(\"Appending a new line.\\n\") # append a new line to the file\n",
    "    file.write(\"This is another appended line.\\n\")"
   ]
  },
  {
   "cell_type": "code",
   "execution_count": 4,
   "id": "db0671fd",
   "metadata": {},
   "outputs": [
    {
     "name": "stdout",
     "output_type": "stream",
     "text": [
      "Current content of the file:\n",
      "Hello World!\n",
      "This is a text file.\n",
      "Appending a new line.\n",
      "This is another appended line.\n",
      "\n"
     ]
    }
   ],
   "source": [
    "# Working with files in python (Read and write mode)\n",
    "\n",
    "with open('sample-1.txt', 'r+') as file:\n",
    "    content = file.read()\n",
    "    print(\"Current content of the file:\")\n",
    "    print(content)\n",
    "\n",
    "    file.write(\"Adding more content.\\n\")"
   ]
  },
  {
   "cell_type": "markdown",
   "id": "0d49a8cb",
   "metadata": {},
   "source": [
    "# Working with CSV Files\n",
    "\n",
    "- CSV: Comma-Separated Values (like simple Excel files).\n",
    "- csv module:\n",
    "- csv.writer( ) - Writes data to CSV.\n",
    "- csv.reader( ) - Reads CSV rows as list.\n",
    "- csv.DictReader( ) - Reads rows as dictionaries."
   ]
  },
  {
   "cell_type": "code",
   "execution_count": 5,
   "id": "7317a5cf",
   "metadata": {},
   "outputs": [],
   "source": [
    "# Working with CSV files\n",
    "\n",
    "import csv\n",
    "\n",
    "# writing to csv\n",
    "with open('data.csv', 'w', newline='') as csvfile:\n",
    "    writer = csv.writer(csvfile)   # create the csv writer object\n",
    "    writer.writerow(['name', 'age', 'city'])  # write header row\n",
    "    writer.writerow(['donald', 25, 'Calabar']) # write data row\n",
    "    writer.writerow(['Bob', 30, 'Aba'])  # write another data row"
   ]
  },
  {
   "cell_type": "code",
   "execution_count": 7,
   "id": "d2b88e5a",
   "metadata": {},
   "outputs": [
    {
     "name": "stdout",
     "output_type": "stream",
     "text": [
      "['name', 'age', 'city']\n",
      "['donald', '25', 'Calabar']\n",
      "['Bob', '30', 'Aba']\n"
     ]
    }
   ],
   "source": [
    "# working with csv fies\n",
    "import csv\n",
    "\n",
    "with open('data.csv', 'r') as csvfile: # open file in read mode\n",
    "    reader = csv.reader(csvfile) # create a csv reader object\n",
    "    for row in reader:   # iterate through each row in the csv file\n",
    "        print(row)"
   ]
  },
  {
   "cell_type": "code",
   "execution_count": 8,
   "id": "17c5ad90",
   "metadata": {},
   "outputs": [
    {
     "name": "stdout",
     "output_type": "stream",
     "text": [
      "{'name': 'donald', 'age': '25', 'city': 'Calabar'}\n",
      "{'name': 'Bob', 'age': '30', 'city': 'Aba'}\n"
     ]
    }
   ],
   "source": [
    "# Working with csv file\n",
    "\n",
    "# DictReader for reading csv files\n",
    "\n",
    "with open('data.csv', 'r') as csvfile:\n",
    "    reader = csv.DictReader(csvfile)\n",
    "    for row in reader:\n",
    "        print(row)"
   ]
  },
  {
   "cell_type": "markdown",
   "id": "5aa4c458",
   "metadata": {},
   "source": [
    "# Handling JSON Data\n",
    "\n",
    "JSON: Format for storing and exchanging data (like Python Dictionaries)\n",
    "\n",
    "json module:\n",
    "   - json.dump() - Writes JSON to file.\n",
    "   - json.load() - Reads JSON from file.\n",
    "   - json.loads() - Reads JSON from string.\n",
    "   - json.dumps() - Converts Python object to JSON string."
   ]
  },
  {
   "cell_type": "code",
   "execution_count": 9,
   "id": "9879b2fe",
   "metadata": {},
   "outputs": [],
   "source": [
    "import json\n",
    "\n",
    "# Writw json file\n",
    "\n",
    "data = {\n",
    "    'name': 'George',\n",
    "    'age': 25,\n",
    "    'city':'calabar'\n",
    "}\n",
    "\n",
    "with open('data.json', 'w') as jsonfile:\n",
    "    json.dump(data, jsonfile, indent=4) # write json data to the file with indentation"
   ]
  },
  {
   "cell_type": "code",
   "execution_count": 10,
   "id": "8c4f793c",
   "metadata": {},
   "outputs": [
    {
     "name": "stdout",
     "output_type": "stream",
     "text": [
      "{'name': 'George', 'age': 25, 'city': 'calabar'}\n"
     ]
    }
   ],
   "source": [
    "# Reading from json file\n",
    "\n",
    "with open('data.json', 'r') as jsonfile:\n",
    "    data = json.load(jsonfile)\n",
    "    print(data)"
   ]
  },
  {
   "cell_type": "code",
   "execution_count": 11,
   "id": "7a08a1b1",
   "metadata": {},
   "outputs": [
    {
     "name": "stdout",
     "output_type": "stream",
     "text": [
      "{'name': 'George', 'age': 25, 'city': 'calabar'}\n"
     ]
    }
   ],
   "source": [
    "# Load to read json from a string\n",
    "\n",
    "json_string = '{\"name\": \"George\", \"age\": 25, \"city\": \"calabar\"}'\n",
    "data = json.loads(json_string) # Parse json string into python dictionary\n",
    "print(data)"
   ]
  },
  {
   "cell_type": "code",
   "execution_count": null,
   "id": "a956ddba",
   "metadata": {},
   "outputs": [
    {
     "name": "stdout",
     "output_type": "stream",
     "text": [
      "{\n",
      "    \"name\": \"George\",\n",
      "    \"age\": 25,\n",
      "    \"city\": \"calabar\"\n",
      "}\n"
     ]
    }
   ],
   "source": [
    "# Use dump to convert python object to json string\n",
    "\n",
    "data = {\n",
    "    'name': 'George',\n",
    "    'age': 25,\n",
    "    'city':'calabar'\n",
    "}\n",
    "\n",
    "json_string = json.dumps(data, indent=4) # Convert python object to json string with indentation\n",
    "print(json_string)"
   ]
  }
 ],
 "metadata": {
  "kernelspec": {
   "display_name": "pythonz",
   "language": "python",
   "name": "python3"
  },
  "language_info": {
   "codemirror_mode": {
    "name": "ipython",
    "version": 3
   },
   "file_extension": ".py",
   "mimetype": "text/x-python",
   "name": "python",
   "nbconvert_exporter": "python",
   "pygments_lexer": "ipython3",
   "version": "3.12.3"
  }
 },
 "nbformat": 4,
 "nbformat_minor": 5
}
