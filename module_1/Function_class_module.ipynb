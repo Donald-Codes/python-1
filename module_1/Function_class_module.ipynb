{
 "cells": [
  {
   "cell_type": "markdown",
   "id": "c34b8170",
   "metadata": {},
   "source": [
    "## Functions, Classes and Modules"
   ]
  },
  {
   "cell_type": "markdown",
   "id": "3498e2c3",
   "metadata": {},
   "source": [
    "### 1. Functions in Python"
   ]
  },
  {
   "cell_type": "code",
   "execution_count": 1,
   "id": "bcaedbd9",
   "metadata": {},
   "outputs": [
    {
     "name": "stdout",
     "output_type": "stream",
     "text": [
      "10\n"
     ]
    }
   ],
   "source": [
    "# positional argument. \n",
    "def add_position(a,b,c):\n",
    "    sum = a+b+c\n",
    "    return sum\n",
    "\n",
    "result = add_position(2,3,5)\n",
    "print(result)"
   ]
  },
  {
   "cell_type": "code",
   "execution_count": 2,
   "id": "f9fc6228",
   "metadata": {},
   "outputs": [
    {
     "name": "stdout",
     "output_type": "stream",
     "text": [
      "Name ikechukwu\n",
      "Age 25\n"
     ]
    }
   ],
   "source": [
    "# key word argument\n",
    "def add_keyword(name=str, age=int):\n",
    "    print(\"Name\", name)\n",
    "    print(\"Age\", age)\n",
    "\n",
    "add_keyword(name=\"ikechukwu\", age=25)"
   ]
  },
  {
   "cell_type": "code",
   "execution_count": 3,
   "id": "96be75a3",
   "metadata": {},
   "outputs": [],
   "source": [
    "# args arguments\n",
    "def add_args(*args):\n",
    "    print(type(args))\n",
    "    for num in args:\n",
    "        print(num, end=\" \")"
   ]
  },
  {
   "cell_type": "code",
   "execution_count": 4,
   "id": "ff7cf047",
   "metadata": {},
   "outputs": [
    {
     "name": "stdout",
     "output_type": "stream",
     "text": [
      "<class 'tuple'>\n",
      "1 2 3 4 5 6 7 "
     ]
    }
   ],
   "source": [
    "add_args(1,2,3,4,5,6,7)"
   ]
  },
  {
   "cell_type": "markdown",
   "id": "6935bb44",
   "metadata": {},
   "source": [
    "### **kwargs Arguments"
   ]
  },
  {
   "cell_type": "code",
   "execution_count": 5,
   "id": "0a8601cb",
   "metadata": {},
   "outputs": [],
   "source": [
    "def add_kwargs(**kwargs):\n",
    "    print(type(kwargs))\n",
    "    for key, value in kwargs.items():\n",
    "        print(f\"{key}: {value}\")"
   ]
  },
  {
   "cell_type": "code",
   "execution_count": 6,
   "id": "99db6c62",
   "metadata": {},
   "outputs": [
    {
     "name": "stdout",
     "output_type": "stream",
     "text": [
      "<class 'dict'>\n",
      "name: David\n",
      "age: 35\n",
      "city: New york\n"
     ]
    }
   ],
   "source": [
    "add_kwargs(name=\"David\", age=35, city=\"New york\")"
   ]
  },
  {
   "cell_type": "code",
   "execution_count": 7,
   "id": "38a84225",
   "metadata": {},
   "outputs": [],
   "source": [
    "def average(number):\n",
    "    total = 0\n",
    "    for i in number:\n",
    "        total+=i\n",
    "    avg = total/len(number)\n",
    "\n",
    "    return avg    "
   ]
  },
  {
   "cell_type": "code",
   "execution_count": 8,
   "id": "2ce07061",
   "metadata": {},
   "outputs": [
    {
     "name": "stdout",
     "output_type": "stream",
     "text": [
      "98.625\n"
     ]
    }
   ],
   "source": [
    "price = [1,2,44,567,33,44,55,43]\n",
    "avg = average(price)\n",
    "print(avg)"
   ]
  },
  {
   "cell_type": "code",
   "execution_count": 9,
   "id": "6940d887",
   "metadata": {},
   "outputs": [],
   "source": [
    "# Get Crypto Price Change Percentage\n",
    "\n",
    "def cal_price_change(old_price, new_price):\n",
    "    change = ((new_price - old_price) / old_price) * 100\n",
    "    return change"
   ]
  },
  {
   "cell_type": "code",
   "execution_count": 10,
   "id": "944067f2",
   "metadata": {},
   "outputs": [
    {
     "name": "stdout",
     "output_type": "stream",
     "text": [
      "BTC Price change : 20.0%\n"
     ]
    }
   ],
   "source": [
    "btc_change = cal_price_change(100000, 120000)\n",
    "print(f\"BTC Price change : {btc_change}%\")"
   ]
  },
  {
   "cell_type": "code",
   "execution_count": 11,
   "id": "1da0baae",
   "metadata": {},
   "outputs": [
    {
     "name": "stdout",
     "output_type": "stream",
     "text": [
      "bitcoin is currently trading at $110,000.00\n",
      "etherum is currently trading at $1,800.00\n"
     ]
    }
   ],
   "source": [
    "def format_crypto_price(name, price, symbol=\"$\"):\n",
    "    return f\"{name} is currently trading at {symbol}{price:,.2f}\"\n",
    "\n",
    "print(format_crypto_price(\"bitcoin\", 110000, \"$\"))\n",
    "print(format_crypto_price(\"etherum\", 1800))"
   ]
  },
  {
   "cell_type": "markdown",
   "id": "9b457be1",
   "metadata": {},
   "source": [
    " # Classes in python\n",
    "\n",
    " classes are blueprints for creating objects"
   ]
  },
  {
   "cell_type": "markdown",
   "id": "6b233fed",
   "metadata": {},
   "source": [
    "### Defining a class"
   ]
  },
  {
   "cell_type": "code",
   "execution_count": 12,
   "id": "9f523d66",
   "metadata": {},
   "outputs": [],
   "source": [
    "class CryptoWallet:\n",
    "    def __init__(self, owner):\n",
    "        self.owner = owner\n",
    "        self.balance = {}\n",
    "\n",
    "    def deposit(self, token, amount):\n",
    "        self.balance[token] = self.balance.get(token, 0) + amount\n",
    "\n",
    "    def withdraw(self, token, amount):\n",
    "        if self.balance.get(token, 0) >= amount:\n",
    "            self.balance[token] -= amount\n",
    "            return True\n",
    "        else:\n",
    "            return False\n",
    "\n",
    "    def view_balance(self):\n",
    "        return self.balance            "
   ]
  },
  {
   "cell_type": "code",
   "execution_count": 13,
   "id": "7a72fb96",
   "metadata": {},
   "outputs": [
    {
     "name": "stdout",
     "output_type": "stream",
     "text": [
      "{'eth': 0.8, 'btc': 0.9}\n"
     ]
    }
   ],
   "source": [
    "wallet = CryptoWallet(\"donald\")\n",
    "wallet.deposit(\"eth\", 0.8)\n",
    "wallet.deposit(\"btc\", 0.9)\n",
    "\n",
    "print(wallet.view_balance())"
   ]
  },
  {
   "cell_type": "code",
   "execution_count": 14,
   "id": "f5fbc4ed",
   "metadata": {},
   "outputs": [
    {
     "name": "stdout",
     "output_type": "stream",
     "text": [
      "withdrawal success:  True\n",
      "{'eth': 0.7000000000000001, 'btc': 0.9}\n"
     ]
    }
   ],
   "source": [
    "success = wallet.withdraw(\"eth\", 0.1)\n",
    "print(\"withdrawal success: \", success)\n",
    "print(wallet.view_balance())"
   ]
  },
  {
   "cell_type": "code",
   "execution_count": 15,
   "id": "1249d6cb",
   "metadata": {},
   "outputs": [],
   "source": [
    "class Cryptocurrency:\n",
    "    \"\"\"Class to represent a cryptocurency\"\"\"\n",
    "    def __init__(self,name,symbol,price,quantity):\n",
    "        self.name = name\n",
    "        self.price = price\n",
    "        self.symbol = symbol\n",
    "        self.quantity = quantity\n",
    "\n",
    "    def get_value(self):\n",
    "        \"\"\"Calculate the total value of the holding\"\"\" \n",
    "        return self.price * self.quantity\n",
    "\n",
    "    def updated_price(self, new_price):\n",
    "        \"\"\"Update the cryptocurency price\"\"\"\n",
    "        self.price = new_price\n",
    "\n",
    "class portfolio:\n",
    "    \"\"\"Class to manage a portfolio of cryptocurrencies\"\"\"\n",
    "    def __init__(self):\n",
    "        self.holdings = {}\n",
    "\n",
    "    def add_crypto(self, crypto):\n",
    "        \"\"\"Add a cryptocurrency to the portfolio\"\"\"\n",
    "        self.holdings[crypto.symbol] = crypto\n",
    "\n",
    "    def get_total_value(self):\n",
    "        \"\"\"Calculate the total value of the portfolio\"\"\" \n",
    "        total = sum(crypto.get_value() for crypto in self.holdings.values())\n",
    "        return total\n",
    "    \n",
    "    def get_holding(self,symbol):\n",
    "        \"\"\"Retieves A cryptocurrency by it's symbol\"\"\"\n",
    "        return self.holdings.get(symbol, None)\n",
    "    \n",
    "    def withdraw_crypto(self, symbol, quantity):\n",
    "        \"\"\"Withdraw a specified quantity of a cryptocurrency\"\"\"\n",
    "\n",
    "        crypto = self.get_holding(symbol)\n",
    "        # check if the cryptocurrency exist\n",
    "        if not crypto:\n",
    "            print(f\"Error: {symbol} not found in the portfolio\")\n",
    "            return False\n",
    "        \n",
    "        #Validate Quantity\n",
    "        if quantity <= 0:\n",
    "            print(f\"Error: Withdrawal quantity is insufficient\")\n",
    "            return False\n",
    "        if quantity > crypto.quantity:\n",
    "            print(f\"Error: insufficient {symbol} quantity. Available: {crypto.quantity}, Request: {quantity}\")\n",
    "            return False\n",
    "        \n",
    "        # Update quantity\n",
    "        crypto.quantity -= quantity\n",
    "        print(f\"Withdrew {quantity} {symbol}. Remaining: {crypto.quantity}\")\n",
    "\n",
    "        # Remove cryptocurrency if quantity is 0\n",
    "        if crypto.quantity == 0:\n",
    "            del self.holdings[symbol]\n",
    "            print(f\"{symbol} holding removed from portfolio\")\n",
    "\n",
    "\n",
    "        return True"
   ]
  },
  {
   "cell_type": "code",
   "execution_count": 16,
   "id": "c2d56db0",
   "metadata": {},
   "outputs": [
    {
     "name": "stdout",
     "output_type": "stream",
     "text": [
      "portfolio total value: $117200.00\n"
     ]
    }
   ],
   "source": [
    "# Create cryptocurrency objects\n",
    "bitcoin = Cryptocurrency(\"Bitcoin\", \"BTC\", 117000, 1)\n",
    "etherum = Cryptocurrency(\"Etherum\", \"ETH\", 500, 0.4)\n",
    "\n",
    "# create portfolio objects\n",
    "my_portfolio = portfolio()\n",
    "my_portfolio.add_crypto(bitcoin)\n",
    "my_portfolio.add_crypto(etherum)\n",
    "\n",
    "# calculate total portfolio values\n",
    "\n",
    "total_value = my_portfolio.get_total_value()\n",
    "print(f\"portfolio total value: ${total_value:.2f}\")"
   ]
  },
  {
   "cell_type": "code",
   "execution_count": 17,
   "id": "83a79309",
   "metadata": {},
   "outputs": [
    {
     "name": "stdout",
     "output_type": "stream",
     "text": [
      "New bitcoin price $100000\n",
      "Updated Portfolio value $100200.00\n"
     ]
    }
   ],
   "source": [
    "bitcoin.updated_price(100000)\n",
    "print(f\"New bitcoin price ${bitcoin.price}\")\n",
    "print(f\"Updated Portfolio value ${my_portfolio.get_total_value():.2f}\")"
   ]
  },
  {
   "cell_type": "code",
   "execution_count": 18,
   "id": "e66547f1",
   "metadata": {},
   "outputs": [
    {
     "name": "stdout",
     "output_type": "stream",
     "text": [
      "Withdrew 0.2 ETH. Remaining: 0.2\n",
      "portfolio value after withdrawing 0.2 ETH: $100100.00\n"
     ]
    }
   ],
   "source": [
    "my_portfolio.withdraw_crypto(\"ETH\", 0.2)\n",
    "print(f\"portfolio value after withdrawing 0.2 ETH: ${my_portfolio.get_total_value():.2f}\")"
   ]
  },
  {
   "cell_type": "markdown",
   "id": "bc46113d",
   "metadata": {},
   "source": [
    "## MODULES"
   ]
  },
  {
   "cell_type": "markdown",
   "id": "a78d50cf",
   "metadata": {},
   "source": [
    "A python module is a file containing Python code (e.g functions, variables, classes) that can be imported and reused in other programs. it organizes related code into a single file, making it easy to manage and share."
   ]
  },
  {
   "cell_type": "markdown",
   "id": "be99ae21",
   "metadata": {},
   "source": [
    "# Types of modules\n",
    "\n",
    "Standard Module/Library: Built in"
   ]
  },
  {
   "cell_type": "code",
   "execution_count": 20,
   "id": "1a980366",
   "metadata": {},
   "outputs": [],
   "source": [
    "import math\n",
    "import time\n",
    "import random\n",
    "import os\n",
    "import sys "
   ]
  },
  {
   "cell_type": "code",
   "execution_count": 21,
   "id": "7b96d091",
   "metadata": {},
   "outputs": [
    {
     "name": "stdout",
     "output_type": "stream",
     "text": [
      "The square root of 16 is  4.0\n"
     ]
    }
   ],
   "source": [
    "sqrt_value = math.sqrt(16)\n",
    "print('The square root of 16 is ', sqrt_value)"
   ]
  },
  {
   "cell_type": "code",
   "execution_count": 23,
   "id": "333a2bee",
   "metadata": {},
   "outputs": [],
   "source": [
    "time.sleep(2)"
   ]
  },
  {
   "cell_type": "code",
   "execution_count": 27,
   "id": "7dd295b5",
   "metadata": {},
   "outputs": [
    {
     "name": "stdout",
     "output_type": "stream",
     "text": [
      "6\n"
     ]
    }
   ],
   "source": [
    "random_num = random.randint(1,10)\n",
    "print(random_num)"
   ]
  },
  {
   "cell_type": "code",
   "execution_count": 28,
   "id": "a2f519da",
   "metadata": {},
   "outputs": [
    {
     "name": "stdout",
     "output_type": "stream",
     "text": [
      "3.12.3 (tags/v3.12.3:f6650f9, Apr  9 2024, 14:05:25) [MSC v.1938 64 bit (AMD64)]\n"
     ]
    }
   ],
   "source": [
    "python_version = sys.version\n",
    "print(python_version)"
   ]
  },
  {
   "cell_type": "markdown",
   "id": "dd7d3cb4",
   "metadata": {},
   "source": [
    "### Third party module\n",
    "Examples:\n",
    "- pandas\n",
    "- web3\n",
    "- tweepy\n",
    "etc"
   ]
  },
  {
   "cell_type": "code",
   "execution_count": null,
   "id": "ce647faf",
   "metadata": {},
   "outputs": [],
   "source": []
  },
  {
   "cell_type": "markdown",
   "id": "36f7445f",
   "metadata": {},
   "source": [
    "### Custom Modules\n",
    "\n",
    "save your script with .py extension. E.G learn.py"
   ]
  }
 ],
 "metadata": {
  "kernelspec": {
   "display_name": "pythonz",
   "language": "python",
   "name": "python3"
  },
  "language_info": {
   "codemirror_mode": {
    "name": "ipython",
    "version": 3
   },
   "file_extension": ".py",
   "mimetype": "text/x-python",
   "name": "python",
   "nbconvert_exporter": "python",
   "pygments_lexer": "ipython3",
   "version": "3.12.3"
  }
 },
 "nbformat": 4,
 "nbformat_minor": 5
}
