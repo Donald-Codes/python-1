{
 "cells": [
  {
   "cell_type": "markdown",
   "id": "b3e97533",
   "metadata": {},
   "source": [
    "## Data Structure in Python\n"
   ]
  },
  {
   "cell_type": "markdown",
   "id": "0ed2dae6",
   "metadata": {},
   "source": [
    "## 1. String (str)"
   ]
  },
  {
   "cell_type": "code",
   "execution_count": 80,
   "id": "d920a620",
   "metadata": {},
   "outputs": [],
   "source": [
    "name = \"Blockchain\""
   ]
  },
  {
   "cell_type": "markdown",
   "id": "b0caab8b",
   "metadata": {},
   "source": [
    "### common methods and function in strings"
   ]
  },
  {
   "cell_type": "code",
   "execution_count": 81,
   "id": "3bd377d0",
   "metadata": {},
   "outputs": [
    {
     "data": {
      "text/plain": [
       "10"
      ]
     },
     "execution_count": 81,
     "metadata": {},
     "output_type": "execute_result"
    }
   ],
   "source": [
    "# len() > length of string\n",
    "len(name)\n"
   ]
  },
  {
   "cell_type": "code",
   "execution_count": 82,
   "id": "aa3db5ff",
   "metadata": {},
   "outputs": [
    {
     "data": {
      "text/plain": [
       "'blockchain'"
      ]
     },
     "execution_count": 82,
     "metadata": {},
     "output_type": "execute_result"
    }
   ],
   "source": [
    "# .lower > converts to lowercase\n",
    "name.lower()"
   ]
  },
  {
   "cell_type": "code",
   "execution_count": 83,
   "id": "78ff7ef4",
   "metadata": {},
   "outputs": [
    {
     "data": {
      "text/plain": [
       "'BLOCKCHAIN'"
      ]
     },
     "execution_count": 83,
     "metadata": {},
     "output_type": "execute_result"
    }
   ],
   "source": [
    "# .upper > converts to uppercase\n",
    "name.upper()"
   ]
  },
  {
   "cell_type": "code",
   "execution_count": 84,
   "id": "5ac52e0d",
   "metadata": {},
   "outputs": [
    {
     "data": {
      "text/plain": [
       "'Crypto'"
      ]
     },
     "execution_count": 84,
     "metadata": {},
     "output_type": "execute_result"
    }
   ],
   "source": [
    "# .replace(old, new) -> replaces a substring \n",
    "name = \"Blockchain\"\n",
    "name.replace(\"Blockchain\", \"Crypto\")"
   ]
  },
  {
   "cell_type": "code",
   "execution_count": 85,
   "id": "cdbe0f12",
   "metadata": {},
   "outputs": [
    {
     "data": {
      "text/plain": [
       "['blockchain', ' crypto', ' token', ' price']"
      ]
     },
     "execution_count": 85,
     "metadata": {},
     "output_type": "execute_result"
    }
   ],
   "source": [
    "# .split() -> splits into list\n",
    "y = \"blockchain, crypto, token, price\"\n",
    "y.split(',')"
   ]
  },
  {
   "cell_type": "code",
   "execution_count": 86,
   "id": "32c70462",
   "metadata": {},
   "outputs": [
    {
     "data": {
      "text/plain": [
       "True"
      ]
     },
     "execution_count": 86,
     "metadata": {},
     "output_type": "execute_result"
    }
   ],
   "source": [
    "# in -> checks for substrings\n",
    "y = \"materials\"\n",
    "\"mat\" in y"
   ]
  },
  {
   "cell_type": "markdown",
   "id": "524e5a8e",
   "metadata": {},
   "source": [
    "## 2. LIST (list)"
   ]
  },
  {
   "cell_type": "code",
   "execution_count": 87,
   "id": "27e517bd",
   "metadata": {},
   "outputs": [],
   "source": [
    "tokens = ['ETH', 'BTC', 'SOL', 'ADA']\n"
   ]
  },
  {
   "cell_type": "markdown",
   "id": "b46953c8",
   "metadata": {},
   "source": [
    "## Common method of a list"
   ]
  },
  {
   "cell_type": "code",
   "execution_count": 88,
   "id": "d7630a91",
   "metadata": {},
   "outputs": [
    {
     "data": {
      "text/plain": [
       "4"
      ]
     },
     "execution_count": 88,
     "metadata": {},
     "output_type": "execute_result"
    }
   ],
   "source": [
    "# len() -> length of list\n",
    "len(tokens)"
   ]
  },
  {
   "cell_type": "code",
   "execution_count": 89,
   "id": "99212b2f",
   "metadata": {},
   "outputs": [
    {
     "data": {
      "text/plain": [
       "['ETH', 'BTC', 'SOL', 'ADA', 'TIA']"
      ]
     },
     "execution_count": 89,
     "metadata": {},
     "output_type": "execute_result"
    }
   ],
   "source": [
    "# .append(x) -> add to the end of a list\n",
    "tokens.append('TIA')\n",
    "tokens"
   ]
  },
  {
   "cell_type": "code",
   "execution_count": 90,
   "id": "5b1015f5",
   "metadata": {},
   "outputs": [
    {
     "data": {
      "text/plain": [
       "['ETH', 'BTC', 'SOL', 'SOL', 'ADA', 'TIA']"
      ]
     },
     "execution_count": 90,
     "metadata": {},
     "output_type": "execute_result"
    }
   ],
   "source": [
    "# .insert(i, x)-> adds to an index\n",
    "tokens.insert(2, 'SOL')\n",
    "tokens"
   ]
  },
  {
   "cell_type": "code",
   "execution_count": 91,
   "id": "7e3a26b2",
   "metadata": {},
   "outputs": [
    {
     "data": {
      "text/plain": [
       "['ETH', 'BTC', 'SOL', 'ADA', 'TIA']"
      ]
     },
     "execution_count": 91,
     "metadata": {},
     "output_type": "execute_result"
    }
   ],
   "source": [
    "# .remove(x) -> Removes the first match\n",
    "tokens.remove('SOL')\n",
    "tokens"
   ]
  },
  {
   "cell_type": "code",
   "execution_count": 92,
   "id": "68c76689",
   "metadata": {},
   "outputs": [
    {
     "data": {
      "text/plain": [
       "['ETH', 'BTC', 'SOL', 'ADA']"
      ]
     },
     "execution_count": 92,
     "metadata": {},
     "output_type": "execute_result"
    }
   ],
   "source": [
    "# .pop(i) -> removes and returns\n",
    "tokens.pop(4)\n",
    "tokens"
   ]
  },
  {
   "cell_type": "code",
   "execution_count": 93,
   "id": "677fd677",
   "metadata": {},
   "outputs": [
    {
     "data": {
      "text/plain": [
       "['ADA', 'BTC', 'ETH', 'SOL']"
      ]
     },
     "execution_count": 93,
     "metadata": {},
     "output_type": "execute_result"
    }
   ],
   "source": [
    "# .sort() -> sort lists\n",
    "tokens.sort()\n",
    "tokens"
   ]
  },
  {
   "cell_type": "code",
   "execution_count": 94,
   "id": "45a61f22",
   "metadata": {},
   "outputs": [
    {
     "data": {
      "text/plain": [
       "['SOL', 'ETH', 'BTC', 'ADA']"
      ]
     },
     "execution_count": 94,
     "metadata": {},
     "output_type": "execute_result"
    }
   ],
   "source": [
    "# .reverse() -> reverses lists\n",
    "tokens.reverse()\n",
    "tokens"
   ]
  },
  {
   "cell_type": "markdown",
   "id": "cef08d03",
   "metadata": {},
   "source": [
    "## Indexing and Slicing"
   ]
  },
  {
   "cell_type": "code",
   "execution_count": 95,
   "id": "c42c691c",
   "metadata": {},
   "outputs": [
    {
     "data": {
      "text/plain": [
       "['ADA', 'ETH', 'SOL', 'BTC']"
      ]
     },
     "execution_count": 95,
     "metadata": {},
     "output_type": "execute_result"
    }
   ],
   "source": [
    "z = ['ADA', 'ETH', 'SOL', 'BTC', 'TIA']\n",
    "#x = z[0], z[4]\n",
    "z[:4]"
   ]
  },
  {
   "cell_type": "markdown",
   "id": "6c9c9d65",
   "metadata": {},
   "source": [
    "## 3. DICTIONARY (dict)"
   ]
  },
  {
   "cell_type": "code",
   "execution_count": 96,
   "id": "5ab5dff6",
   "metadata": {},
   "outputs": [
    {
     "data": {
      "text/plain": [
       "{'address': '0xand', 'balance': 4.5, 'is_active': True}"
      ]
     },
     "execution_count": 96,
     "metadata": {},
     "output_type": "execute_result"
    }
   ],
   "source": [
    "wallet = {\n",
    "    \"address\":\"0xand\",\n",
    "    \"balance\":4.5,\n",
    "    \"is_active\":True\n",
    "}\n",
    "wallet\n"
   ]
  },
  {
   "cell_type": "markdown",
   "id": "d0cf0400",
   "metadata": {},
   "source": [
    "## common methods in Dictionary"
   ]
  },
  {
   "cell_type": "code",
   "execution_count": 98,
   "id": "719d1674",
   "metadata": {},
   "outputs": [
    {
     "data": {
      "text/plain": [
       "4.5"
      ]
     },
     "execution_count": 98,
     "metadata": {},
     "output_type": "execute_result"
    }
   ],
   "source": [
    "# dict[key] -> get value by key\n",
    "wallet[\"balance\"]\n"
   ]
  },
  {
   "cell_type": "code",
   "execution_count": 99,
   "id": "d6bdbf93",
   "metadata": {},
   "outputs": [
    {
     "data": {
      "text/plain": [
       "'0xand'"
      ]
     },
     "execution_count": 99,
     "metadata": {},
     "output_type": "execute_result"
    }
   ],
   "source": [
    "# .get(key) -> gives safe access\n",
    "wallet.get(\"address\")"
   ]
  },
  {
   "cell_type": "code",
   "execution_count": 101,
   "id": "df7ce03f",
   "metadata": {},
   "outputs": [
    {
     "data": {
      "text/plain": [
       "dict_keys(['address', 'balance', 'is_active'])"
      ]
     },
     "execution_count": 101,
     "metadata": {},
     "output_type": "execute_result"
    }
   ],
   "source": [
    "# .keys() -> helps to fetch all keys\n",
    "wallet.keys()"
   ]
  },
  {
   "cell_type": "code",
   "execution_count": 102,
   "id": "3ee4f81f",
   "metadata": {},
   "outputs": [
    {
     "data": {
      "text/plain": [
       "dict_values(['0xand', 4.5, True])"
      ]
     },
     "execution_count": 102,
     "metadata": {},
     "output_type": "execute_result"
    }
   ],
   "source": [
    "# .values() -> fetch all values\n",
    "wallet.values()"
   ]
  },
  {
   "cell_type": "code",
   "execution_count": 103,
   "id": "f46db0a0",
   "metadata": {},
   "outputs": [
    {
     "data": {
      "text/plain": [
       "dict_items([('address', '0xand'), ('balance', 4.5), ('is_active', True)])"
      ]
     },
     "execution_count": 103,
     "metadata": {},
     "output_type": "execute_result"
    }
   ],
   "source": [
    "# .items() -> fetches the key-value pairs\n",
    "wallet.items()"
   ]
  },
  {
   "cell_type": "code",
   "execution_count": 105,
   "id": "47541f1d",
   "metadata": {},
   "outputs": [
    {
     "data": {
      "text/plain": [
       "{'address': '0xand', 'balance': 500, 'is_active': False}"
      ]
     },
     "execution_count": 105,
     "metadata": {},
     "output_type": "execute_result"
    }
   ],
   "source": [
    "# .update() -> updates the dictionary\n",
    "wallet.update({\"is_active\":False})\n",
    "wallet"
   ]
  },
  {
   "cell_type": "code",
   "execution_count": 106,
   "id": "35d1da11",
   "metadata": {},
   "outputs": [
    {
     "data": {
      "text/plain": [
       "{'address': '0xand', 'is_active': False}"
      ]
     },
     "execution_count": 106,
     "metadata": {},
     "output_type": "execute_result"
    }
   ],
   "source": [
    "# .pop(key) -> remove by key\n",
    "wallet.pop(\"balance\")\n",
    "wallet"
   ]
  },
  {
   "cell_type": "markdown",
   "id": "55c00780",
   "metadata": {},
   "source": [
    "## 4. TUPLE (tuple)"
   ]
  },
  {
   "cell_type": "code",
   "execution_count": 2,
   "id": "7d70638e",
   "metadata": {},
   "outputs": [
    {
     "data": {
      "text/plain": [
       "4"
      ]
     },
     "execution_count": 2,
     "metadata": {},
     "output_type": "execute_result"
    }
   ],
   "source": [
    "# len() -> length of the tuple\n",
    "block = ('BTC', 2025, 'halving', 'BTC')\n",
    "\n",
    "len(block)"
   ]
  },
  {
   "cell_type": "code",
   "execution_count": null,
   "id": "ef719f3f",
   "metadata": {},
   "outputs": [
    {
     "data": {
      "text/plain": [
       "2"
      ]
     },
     "execution_count": 3,
     "metadata": {},
     "output_type": "execute_result"
    }
   ],
   "source": [
    "# .count(x) -> counts occurances\n",
    "block.count('BTC')"
   ]
  },
  {
   "cell_type": "code",
   "execution_count": 5,
   "id": "a0238974",
   "metadata": {},
   "outputs": [
    {
     "data": {
      "text/plain": [
       "2"
      ]
     },
     "execution_count": 5,
     "metadata": {},
     "output_type": "execute_result"
    }
   ],
   "source": [
    "# .index(x) -> gets index of elements\n",
    "\n",
    "block.index('halving')"
   ]
  },
  {
   "cell_type": "markdown",
   "id": "2dd4d12b",
   "metadata": {},
   "source": [
    "## 5. SET (set)"
   ]
  },
  {
   "cell_type": "code",
   "execution_count": 6,
   "id": "1cd206b5",
   "metadata": {},
   "outputs": [],
   "source": [
    "# create a set\n",
    "wallet = {'0xand', '0xdef', '0xmrd'}"
   ]
  },
  {
   "cell_type": "markdown",
   "id": "eaedf30b",
   "metadata": {},
   "source": [
    "### common methods in set"
   ]
  },
  {
   "cell_type": "code",
   "execution_count": 8,
   "id": "383635b3",
   "metadata": {},
   "outputs": [
    {
     "data": {
      "text/plain": [
       "{'0xand', '0xdef', '0xmrd', '0xsyn'}"
      ]
     },
     "execution_count": 8,
     "metadata": {},
     "output_type": "execute_result"
    }
   ],
   "source": [
    "# .add(x) -> used to add elements\n",
    "wallet.add('0xsyn')\n",
    "wallet"
   ]
  },
  {
   "cell_type": "code",
   "execution_count": 9,
   "id": "b8d23f41",
   "metadata": {},
   "outputs": [
    {
     "data": {
      "text/plain": [
       "{'0xand', '0xmrd', '0xsyn'}"
      ]
     },
     "execution_count": 9,
     "metadata": {},
     "output_type": "execute_result"
    }
   ],
   "source": [
    "# .remove(x) -> removes elements(error if present or not)\n",
    "\n",
    "wallet.remove('0xdef')\n",
    "wallet"
   ]
  },
  {
   "cell_type": "code",
   "execution_count": 10,
   "id": "0e526101",
   "metadata": {},
   "outputs": [
    {
     "data": {
      "text/plain": [
       "{'0xmrd', '0xsyn'}"
      ]
     },
     "execution_count": 10,
     "metadata": {},
     "output_type": "execute_result"
    }
   ],
   "source": [
    "# .discard(x) -> removes elements (no error if missing)\n",
    "wallet.discard('0xand')\n",
    "wallet"
   ]
  },
  {
   "cell_type": "code",
   "execution_count": 11,
   "id": "0be57a6a",
   "metadata": {},
   "outputs": [
    {
     "data": {
      "text/plain": [
       "{'0x111', '0xand', '0xdef', '0xkjh', '0xmrd', '0xvee'}"
      ]
     },
     "execution_count": 11,
     "metadata": {},
     "output_type": "execute_result"
    }
   ],
   "source": [
    "# .union(other_set) -> it combines sets\n",
    "wallet_a = {'0xand', '0xdef', '0xmrd'}\n",
    "wallet_b = {'0x111', '0xkjh', '0xvee'}\n",
    "\n",
    "wallet_a.union(wallet_b)\n",
    "\n"
   ]
  },
  {
   "cell_type": "code",
   "execution_count": 12,
   "id": "a938c2e4",
   "metadata": {},
   "outputs": [
    {
     "data": {
      "text/plain": [
       "{'0xand', '0xmrd'}"
      ]
     },
     "execution_count": 12,
     "metadata": {},
     "output_type": "execute_result"
    }
   ],
   "source": [
    "# .intersect(other) -> selects the common elements\n",
    "wallet_x = {'0xand', '0xdef', '0xmrd'}\n",
    "wallet_y = {'0xand', '0xkjh', '0xmrd'}\n",
    "\n",
    "wallet_x.intersection(wallet_y)\n"
   ]
  },
  {
   "cell_type": "code",
   "execution_count": 13,
   "id": "0cc6e700",
   "metadata": {},
   "outputs": [
    {
     "data": {
      "text/plain": [
       "{'0xkjh'}"
      ]
     },
     "execution_count": 13,
     "metadata": {},
     "output_type": "execute_result"
    }
   ],
   "source": [
    "# .difference(other) -> unique to set\n",
    "wallet_y.difference(wallet_x)"
   ]
  },
  {
   "cell_type": "code",
   "execution_count": 14,
   "id": "ae79fd5a",
   "metadata": {},
   "outputs": [
    {
     "data": {
      "text/plain": [
       "True"
      ]
     },
     "execution_count": 14,
     "metadata": {},
     "output_type": "execute_result"
    }
   ],
   "source": [
    "# in -> membership check\n",
    "'0xand' in wallet_x"
   ]
  },
  {
   "cell_type": "markdown",
   "id": "59f682cc",
   "metadata": {},
   "source": [
    "## NESTED DATA STRUCTURES\n"
   ]
  },
  {
   "cell_type": "markdown",
   "id": "fa12d714",
   "metadata": {},
   "source": [
    "### A. List of list"
   ]
  },
  {
   "cell_type": "code",
   "execution_count": 2,
   "id": "6ddfcd80",
   "metadata": {},
   "outputs": [
    {
     "name": "stdout",
     "output_type": "stream",
     "text": [
      "5\n"
     ]
    }
   ],
   "source": [
    "# list of list\n",
    "matrix = [\n",
    "    [1,2,3],\n",
    "    [4,5,6],\n",
    "    [7,8,9]\n",
    "]\n",
    "\n",
    "print(matrix[1][1])"
   ]
  },
  {
   "cell_type": "markdown",
   "id": "853fc83e",
   "metadata": {},
   "source": [
    "### B. List of Dictionaries"
   ]
  },
  {
   "cell_type": "code",
   "execution_count": 3,
   "id": "f56457dd",
   "metadata": {},
   "outputs": [
    {
     "name": "stdout",
     "output_type": "stream",
     "text": [
      "0xand\n"
     ]
    }
   ],
   "source": [
    "users = [\n",
    "    {'name':'alice', 'wallet':'0xand'},\n",
    "    {'name':'Bob', 'wallet':'0xcsc'}\n",
    "]\n",
    "print(users[0]['wallet'])"
   ]
  },
  {
   "cell_type": "markdown",
   "id": "d8e30c40",
   "metadata": {},
   "source": [
    "### C. Dictionary of List"
   ]
  },
  {
   "cell_type": "code",
   "execution_count": 4,
   "id": "01c5f84e",
   "metadata": {},
   "outputs": [
    {
     "name": "stdout",
     "output_type": "stream",
     "text": [
      "btc\n"
     ]
    }
   ],
   "source": [
    "wallet = {\n",
    "    '0xznd':['eth','btc','apt'],\n",
    "    '0xcdc':['bsc','msc','uni']\n",
    "}\n",
    "\n",
    "print(wallet['0xznd'][1])"
   ]
  },
  {
   "cell_type": "markdown",
   "id": "7a81b1ea",
   "metadata": {},
   "source": [
    "### D. Nested Dictionary (Dict of Dict)"
   ]
  },
  {
   "cell_type": "code",
   "execution_count": 5,
   "id": "96f49dbb",
   "metadata": {},
   "outputs": [
    {
     "name": "stdout",
     "output_type": "stream",
     "text": [
      "5.5\n"
     ]
    }
   ],
   "source": [
    "users_profile = {\n",
    "    '0xcsc':{\"name\":\"Alice\", \"balance\":5.5},\n",
    "    '0xdef':{\"name\":\"Alex\", \"balance\":3.2}\n",
    "}\n",
    "\n",
    "print(users_profile['0xcsc']['balance'])"
   ]
  },
  {
   "cell_type": "markdown",
   "id": "00ed6eb4",
   "metadata": {},
   "source": [
    "## "
   ]
  }
 ],
 "metadata": {
  "kernelspec": {
   "display_name": "pythonz",
   "language": "python",
   "name": "python3"
  },
  "language_info": {
   "codemirror_mode": {
    "name": "ipython",
    "version": 3
   },
   "file_extension": ".py",
   "mimetype": "text/x-python",
   "name": "python",
   "nbconvert_exporter": "python",
   "pygments_lexer": "ipython3",
   "version": "3.12.3"
  }
 },
 "nbformat": 4,
 "nbformat_minor": 5
}
